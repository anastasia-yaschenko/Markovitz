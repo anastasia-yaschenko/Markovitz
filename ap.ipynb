{
 "cells": [
  {
   "cell_type": "code",
   "execution_count": 1,
   "metadata": {},
   "outputs": [],
   "source": [
    "import pandas as pd\n",
    "import numpy as np\n",
    "from matplotlib import pyplot as plt\n",
    "from scipy.optimize import minimize\n",
    "import os\n",
    "import investpy"
   ]
  },
  {
   "cell_type": "code",
   "execution_count": 2,
   "metadata": {},
   "outputs": [],
   "source": [
    "stocknam=['XOM','MSFT', 'CAT','DIS','PFE','SBUX','AMD','T','AAPL','GE']\n",
    "\n",
    "stock=investpy.get_stock_historical_data(stock=stocknam[0],country='united states', from_date='01/01/2015', to_date='01/01/2020')['Close']\n",
    "stock=pd.DataFrame(stock)\n",
    "for s in range(1,len(stocknam)):\n",
    "    try:\n",
    "        st=investpy.get_stock_historical_data(stock=stocknam[s],country='united states', from_date='01/01/2015', to_date='01/01/2020')['Close']\n",
    "        stock=pd.concat([stock,pd.Series(st)],axis=1)\n",
    "    except RuntimeError:\n",
    "        print(stocknam[s])\n",
    "\n",
    "sp=investpy.indices.get_index_historical_data(index='S&P 500',country='united states', from_date='01/01/2015', to_date='01/01/2020')['Close']\n",
    "stock=pd.concat([stock,sp],axis=1)\n",
    "stock.columns=['XOM','MSFT', 'CAT','DIS','PFE','SBUX','AMD','T','AAPL','GE','S&P 500']\n",
    "\n",
    "stock.to_excel('data_stocks.xlsx')"
   ]
  },
  {
   "cell_type": "code",
   "execution_count": 3,
   "metadata": {},
   "outputs": [
    {
     "data": {
      "text/html": [
       "<div>\n",
       "<style scoped>\n",
       "    .dataframe tbody tr th:only-of-type {\n",
       "        vertical-align: middle;\n",
       "    }\n",
       "\n",
       "    .dataframe tbody tr th {\n",
       "        vertical-align: top;\n",
       "    }\n",
       "\n",
       "    .dataframe thead th {\n",
       "        text-align: right;\n",
       "    }\n",
       "</style>\n",
       "<table border=\"1\" class=\"dataframe\">\n",
       "  <thead>\n",
       "    <tr style=\"text-align: right;\">\n",
       "      <th></th>\n",
       "      <th>XOM</th>\n",
       "      <th>MSFT</th>\n",
       "      <th>CAT</th>\n",
       "      <th>DIS</th>\n",
       "      <th>PFE</th>\n",
       "      <th>SBUX</th>\n",
       "      <th>AMD</th>\n",
       "      <th>T</th>\n",
       "      <th>AAPL</th>\n",
       "      <th>GE</th>\n",
       "      <th>S&amp;P 500</th>\n",
       "    </tr>\n",
       "    <tr>\n",
       "      <th>Date</th>\n",
       "      <th></th>\n",
       "      <th></th>\n",
       "      <th></th>\n",
       "      <th></th>\n",
       "      <th></th>\n",
       "      <th></th>\n",
       "      <th></th>\n",
       "      <th></th>\n",
       "      <th></th>\n",
       "      <th></th>\n",
       "      <th></th>\n",
       "    </tr>\n",
       "  </thead>\n",
       "  <tbody>\n",
       "    <tr>\n",
       "      <th>2015-01-02</th>\n",
       "      <td>92.83</td>\n",
       "      <td>46.76</td>\n",
       "      <td>91.88</td>\n",
       "      <td>93.75</td>\n",
       "      <td>31.33</td>\n",
       "      <td>40.72</td>\n",
       "      <td>2.69</td>\n",
       "      <td>33.87</td>\n",
       "      <td>109.33</td>\n",
       "      <td>25.06</td>\n",
       "      <td>2058.20</td>\n",
       "    </tr>\n",
       "    <tr>\n",
       "      <th>2015-01-05</th>\n",
       "      <td>90.29</td>\n",
       "      <td>46.33</td>\n",
       "      <td>87.03</td>\n",
       "      <td>92.38</td>\n",
       "      <td>31.16</td>\n",
       "      <td>39.94</td>\n",
       "      <td>2.66</td>\n",
       "      <td>33.55</td>\n",
       "      <td>106.25</td>\n",
       "      <td>24.60</td>\n",
       "      <td>2020.58</td>\n",
       "    </tr>\n",
       "    <tr>\n",
       "      <th>2015-01-06</th>\n",
       "      <td>89.81</td>\n",
       "      <td>45.65</td>\n",
       "      <td>86.47</td>\n",
       "      <td>91.89</td>\n",
       "      <td>31.42</td>\n",
       "      <td>39.62</td>\n",
       "      <td>2.63</td>\n",
       "      <td>33.60</td>\n",
       "      <td>106.26</td>\n",
       "      <td>24.07</td>\n",
       "      <td>2002.61</td>\n",
       "    </tr>\n",
       "  </tbody>\n",
       "</table>\n",
       "</div>"
      ],
      "text/plain": [
       "              XOM   MSFT    CAT    DIS    PFE   SBUX   AMD      T    AAPL  \\\n",
       "Date                                                                        \n",
       "2015-01-02  92.83  46.76  91.88  93.75  31.33  40.72  2.69  33.87  109.33   \n",
       "2015-01-05  90.29  46.33  87.03  92.38  31.16  39.94  2.66  33.55  106.25   \n",
       "2015-01-06  89.81  45.65  86.47  91.89  31.42  39.62  2.63  33.60  106.26   \n",
       "\n",
       "               GE  S&P 500  \n",
       "Date                        \n",
       "2015-01-02  25.06  2058.20  \n",
       "2015-01-05  24.60  2020.58  \n",
       "2015-01-06  24.07  2002.61  "
      ]
     },
     "execution_count": 3,
     "metadata": {},
     "output_type": "execute_result"
    }
   ],
   "source": [
    "stock.head(3)"
   ]
  },
  {
   "cell_type": "code",
   "execution_count": null,
   "metadata": {},
   "outputs": [],
   "source": [
    "\n"
   ]
  },
  {
   "cell_type": "code",
   "execution_count": null,
   "metadata": {},
   "outputs": [],
   "source": []
  },
  {
   "cell_type": "code",
   "execution_count": 4,
   "metadata": {},
   "outputs": [],
   "source": [
    "# Params\n",
    "# n - # of stocks to consider\n",
    "# rf - risk free\n",
    "# num_ports - # of portfolios to consturct --> the more we construct the harder to compute EF\n",
    "n = 3\n",
    "rf = 0.02249#risk-free 30Y treasuries\n",
    "num_ports = 50"
   ]
  },
  {
   "cell_type": "code",
   "execution_count": 5,
   "metadata": {},
   "outputs": [
    {
     "data": {
      "text/html": [
       "<div>\n",
       "<style scoped>\n",
       "    .dataframe tbody tr th:only-of-type {\n",
       "        vertical-align: middle;\n",
       "    }\n",
       "\n",
       "    .dataframe tbody tr th {\n",
       "        vertical-align: top;\n",
       "    }\n",
       "\n",
       "    .dataframe thead th {\n",
       "        text-align: right;\n",
       "    }\n",
       "</style>\n",
       "<table border=\"1\" class=\"dataframe\">\n",
       "  <thead>\n",
       "    <tr style=\"text-align: right;\">\n",
       "      <th></th>\n",
       "      <th>XOM</th>\n",
       "      <th>MSFT</th>\n",
       "      <th>CAT</th>\n",
       "    </tr>\n",
       "    <tr>\n",
       "      <th>Date</th>\n",
       "      <th></th>\n",
       "      <th></th>\n",
       "      <th></th>\n",
       "    </tr>\n",
       "  </thead>\n",
       "  <tbody>\n",
       "    <tr>\n",
       "      <th>2015-01-02</th>\n",
       "      <td>92.83</td>\n",
       "      <td>46.76</td>\n",
       "      <td>91.88</td>\n",
       "    </tr>\n",
       "    <tr>\n",
       "      <th>2015-01-05</th>\n",
       "      <td>90.29</td>\n",
       "      <td>46.33</td>\n",
       "      <td>87.03</td>\n",
       "    </tr>\n",
       "    <tr>\n",
       "      <th>2015-01-06</th>\n",
       "      <td>89.81</td>\n",
       "      <td>45.65</td>\n",
       "      <td>86.47</td>\n",
       "    </tr>\n",
       "  </tbody>\n",
       "</table>\n",
       "</div>"
      ],
      "text/plain": [
       "              XOM   MSFT    CAT\n",
       "Date                           \n",
       "2015-01-02  92.83  46.76  91.88\n",
       "2015-01-05  90.29  46.33  87.03\n",
       "2015-01-06  89.81  45.65  86.47"
      ]
     },
     "execution_count": 5,
     "metadata": {},
     "output_type": "execute_result"
    }
   ],
   "source": [
    "data=stock.iloc[:,:-8]\n",
    "data.head(3)"
   ]
  },
  {
   "cell_type": "code",
   "execution_count": 6,
   "metadata": {},
   "outputs": [],
   "source": [
    "expectedreturns=[]\n",
    "variance_=[]\n",
    "for i in range(np.array(data).shape[1]):\n",
    "    expectedreturns.append(data.iloc[:,i].mean())\n",
    "    variance_.append(data.iloc[:,i].var())"
   ]
  },
  {
   "cell_type": "code",
   "execution_count": 7,
   "metadata": {},
   "outputs": [
    {
     "data": {
      "text/html": [
       "<div>\n",
       "<style scoped>\n",
       "    .dataframe tbody tr th:only-of-type {\n",
       "        vertical-align: middle;\n",
       "    }\n",
       "\n",
       "    .dataframe tbody tr th {\n",
       "        vertical-align: top;\n",
       "    }\n",
       "\n",
       "    .dataframe thead th {\n",
       "        text-align: right;\n",
       "    }\n",
       "</style>\n",
       "<table border=\"1\" class=\"dataframe\">\n",
       "  <thead>\n",
       "    <tr style=\"text-align: right;\">\n",
       "      <th></th>\n",
       "      <th></th>\n",
       "      <th>XOM</th>\n",
       "      <th>MSFT</th>\n",
       "      <th>CAT</th>\n",
       "    </tr>\n",
       "    <tr>\n",
       "      <th></th>\n",
       "      <th>0</th>\n",
       "      <th></th>\n",
       "      <th></th>\n",
       "      <th></th>\n",
       "    </tr>\n",
       "  </thead>\n",
       "  <tbody>\n",
       "    <tr>\n",
       "      <th>0</th>\n",
       "      <th>exp</th>\n",
       "      <td>80.920032</td>\n",
       "      <td>81.042375</td>\n",
       "      <td>109.493140</td>\n",
       "    </tr>\n",
       "    <tr>\n",
       "      <th>1</th>\n",
       "      <th>var</th>\n",
       "      <td>36.033473</td>\n",
       "      <td>1026.855188</td>\n",
       "      <td>876.152356</td>\n",
       "    </tr>\n",
       "  </tbody>\n",
       "</table>\n",
       "</div>"
      ],
      "text/plain": [
       "             XOM         MSFT         CAT\n",
       "  0                                      \n",
       "0 exp  80.920032    81.042375  109.493140\n",
       "1 var  36.033473  1026.855188  876.152356"
      ]
     },
     "execution_count": 7,
     "metadata": {},
     "output_type": "execute_result"
    }
   ],
   "source": [
    "exp_var=pd.DataFrame([expectedreturns,variance_])\n",
    "u=['exp','var']\n",
    "exp_var=pd.concat([exp_var,pd.Series(u)],axis=1)\n",
    "exp_var.set_index(exp_var.iloc[:,-1], inplace = True, append = True, drop = True)\n",
    "exp_var.columns=['XOM','MSFT', 'CAT','to_del']\n",
    "exp_var=exp_var.drop(columns=['to_del'])\n",
    "exp_var"
   ]
  },
  {
   "cell_type": "code",
   "execution_count": null,
   "metadata": {},
   "outputs": [],
   "source": []
  },
  {
   "cell_type": "code",
   "execution_count": 8,
   "metadata": {},
   "outputs": [],
   "source": [
    "log_ret = np.log(data/data.shift(1))\n",
    "market_ret = np.log(stock['S&P 500']/stock['S&P 500'].shift(1))"
   ]
  },
  {
   "cell_type": "code",
   "execution_count": 9,
   "metadata": {},
   "outputs": [],
   "source": [
    "np.random.seed(42)\n",
    "all_weights = np.zeros((num_ports, n))\n",
    "ret_arr = np.zeros(num_ports)\n",
    "vol_arr = np.zeros(num_ports)\n",
    "sharpe_arr = np.zeros(num_ports)\n",
    "\n",
    "for x in range(num_ports):\n",
    "    # Weights\n",
    "    weights = np.array(np.random.random(n))\n",
    "    weights = weights/np.sum(weights)\n",
    "    \n",
    "    # Save weights\n",
    "    all_weights[x,:] = weights\n",
    "    \n",
    "    # Expected return\n",
    "    ret_arr[x] = np.sum( (log_ret.mean() * weights * 252))\n",
    "    \n",
    "    # Expected volatility\n",
    "    vol_arr[x] = np.sqrt(np.dot(weights.T, np.dot(log_ret.cov()*252, weights)))\n",
    "    \n",
    "    # Sharpe Ratio\n",
    "    sharpe_arr[x] = ret_arr[x]/vol_arr[x]\n",
    "    \n",
    "max_sr_ret = ret_arr[sharpe_arr.argmax()]\n",
    "max_sr_vol = vol_arr[sharpe_arr.argmax()]"
   ]
  },
  {
   "cell_type": "code",
   "execution_count": 10,
   "metadata": {},
   "outputs": [],
   "source": [
    "#CML equation 0.02249 + 0.7049934653877946*portfolio st deviation\n",
    "x_cml = np.linspace(0, max(vol_arr))\n",
    "slope = (max_sr_ret - rf) / (max_sr_vol)\n",
    "y_cml = list(map(lambda x: rf + slope * x, x_cml))"
   ]
  },
  {
   "cell_type": "code",
   "execution_count": 11,
   "metadata": {},
   "outputs": [
    {
     "data": {
      "image/png": "[encoded data removed]",
      "text/plain": [
       "<Figure size 864x576 with 2 Axes>"
      ]
     },
     "metadata": {
      "needs_background": "light"
     },
     "output_type": "display_data"
    }
   ],
   "source": [
    "x=[0 ,max_sr_vol]\n",
    "y=[1.19/100, max_sr_ret  ]\n",
    "\n",
    "plt.figure(figsize=(12,8))\n",
    "plt.scatter(vol_arr, ret_arr, c=sharpe_arr, cmap='viridis', label = 'Portfolio with some weights')\n",
    "plt.colorbar(label='Sharpe Ratio')\n",
    "plt.xlabel('Volatility')\n",
    "plt.ylabel('Return')\n",
    "plt.scatter(max_sr_vol, max_sr_ret,c='red', s=10) # red dot\n",
    "plt.scatter(0, 1.19/100,c='purple', s=10) # red dot\n",
    "plt.plot(x_cml, y_cml, linestyle='--', color='b', linewidth=1, label = 'Capital Market Line')\n",
    "plt.legend()\n",
    "plt.plot()\n",
    "plt.show()"
   ]
  },
  {
   "cell_type": "code",
   "execution_count": 12,
   "metadata": {},
   "outputs": [],
   "source": [
    "def get_ret_vol_sr(weights):\n",
    "    weights = np.array(weights)\n",
    "    ret = np.sum(log_ret.mean() * weights) * 252\n",
    "    vol = np.sqrt(np.dot(weights.T, np.dot(log_ret.cov()*252, weights)))\n",
    "    sr = ret/vol\n",
    "    return np.array([ret, vol, sr])\n",
    "\n",
    "def neg_sharpe(weights):\n",
    "# the number 2 is the sharpe ratio index from the get_ret_vol_sr\n",
    "    return get_ret_vol_sr(weights)[2] * -1\n",
    "\n",
    "def check_sum(weights):\n",
    "    #return 0 if sum of the weights is 1\n",
    "    return np.sum(weights)-1\n",
    "def minimize_volatility(weights):\n",
    "    return get_ret_vol_sr(weights)[1]"
   ]
  },
  {
   "cell_type": "code",
   "execution_count": null,
   "metadata": {},
   "outputs": [],
   "source": []
  },
  {
   "cell_type": "code",
   "execution_count": 13,
   "metadata": {},
   "outputs": [
    {
     "name": "stdout",
     "output_type": "stream",
     "text": [
      "     fun: -1.0459392488266948\n",
      "     jac: array([0.56300667, 0.        , 0.1602588 ])\n",
      " message: 'Optimization terminated successfully.'\n",
      "    nfev: 15\n",
      "     nit: 3\n",
      "    njev: 3\n",
      "  status: 0\n",
      " success: True\n",
      "       x: array([0., 1., 0.])\n"
     ]
    }
   ],
   "source": [
    "frontier_y = np.linspace(0, 0.3, 200)\n",
    "cons = ({'type':'eq', 'fun': check_sum })\n",
    "bounds = ((0,1),)*n\n",
    "init_guess = list(map(lambda x: 1/n, range(n)))\n",
    "opt_results = minimize(neg_sharpe, init_guess, method = 'SLSQP', bounds = bounds, constraints=cons)\n",
    "print(opt_results)"
   ]
  },
  {
   "cell_type": "code",
   "execution_count": 36,
   "metadata": {},
   "outputs": [],
   "source": [
    "frontier_x = []\n",
    "\n",
    "for possible_return in frontier_y:\n",
    "    cons = ({'type':'eq', 'fun':check_sum},\n",
    "            {'type':'eq', 'fun': lambda w: get_ret_vol_sr(w)[0] - possible_return})\n",
    "    \n",
    "    result = minimize(minimize_volatility,init_guess,method='SLSQP', bounds=bounds, constraints=cons)\n",
    "    frontier_x.append(result['fun'])\n"
   ]
  },
  {
   "cell_type": "code",
   "execution_count": 37,
   "metadata": {},
   "outputs": [
    {
     "data": {
      "image/png": "[encoded data removed]",
      "text/plain": [
       "<Figure size 1080x1080 with 2 Axes>"
      ]
     },
     "metadata": {
      "needs_background": "light"
     },
     "output_type": "display_data"
    }
   ],
   "source": [
    "plt.figure(figsize=(15,15))\n",
    "plt.grid(linestyle = '-')\n",
    "plt.ylim([0,0.135])\n",
    "plt.scatter(vol_arr, ret_arr, c=sharpe_arr, cmap='viridis')\n",
    "plt.colorbar(label='Sharpe Ratio')\n",
    "plt.xlabel('Volatility')\n",
    "plt.ylabel('Return')\n",
    "plt.plot(frontier_x[26:],frontier_y[26:], 'r--', linewidth=2.5, label = 'Effitient Frontier')\n",
    "#plt.scatter(vol_arr, ret_arr, c=sharpe_arr, cmap='viridis', label = 'Portfolio with some weights')\n",
    "plt.scatter(max_sr_vol, max_sr_ret,c='black', s=50, label = 'Tangent Portfolio') # red dot\n",
    "plt.scatter(0, 1.19/100,c='purple', s=50) # red dot\n",
    "plt.plot(x_cml, y_cml, linestyle='--', color='b', linewidth=1, label = 'Capital Market Line')\n",
    "plt.legend()\n",
    "plt.show()"
   ]
  },
  {
   "cell_type": "code",
   "execution_count": 14,
   "metadata": {},
   "outputs": [
    {
     "data": {
      "text/html": [
       "<div>\n",
       "<style scoped>\n",
       "    .dataframe tbody tr th:only-of-type {\n",
       "        vertical-align: middle;\n",
       "    }\n",
       "\n",
       "    .dataframe tbody tr th {\n",
       "        vertical-align: top;\n",
       "    }\n",
       "\n",
       "    .dataframe thead th {\n",
       "        text-align: right;\n",
       "    }\n",
       "</style>\n",
       "<table border=\"1\" class=\"dataframe\">\n",
       "  <thead>\n",
       "    <tr style=\"text-align: right;\">\n",
       "      <th></th>\n",
       "      <th>XOM</th>\n",
       "      <th>MSFT</th>\n",
       "      <th>CAT</th>\n",
       "      <th>S&amp;P 500</th>\n",
       "    </tr>\n",
       "    <tr>\n",
       "      <th>Date</th>\n",
       "      <th></th>\n",
       "      <th></th>\n",
       "      <th></th>\n",
       "      <th></th>\n",
       "    </tr>\n",
       "  </thead>\n",
       "  <tbody>\n",
       "    <tr>\n",
       "      <th>2015-01-02</th>\n",
       "      <td>NaN</td>\n",
       "      <td>NaN</td>\n",
       "      <td>NaN</td>\n",
       "      <td>NaN</td>\n",
       "    </tr>\n",
       "    <tr>\n",
       "      <th>2015-01-05</th>\n",
       "      <td>-0.027743</td>\n",
       "      <td>-0.009238</td>\n",
       "      <td>-0.054230</td>\n",
       "      <td>-0.018447</td>\n",
       "    </tr>\n",
       "    <tr>\n",
       "      <th>2015-01-06</th>\n",
       "      <td>-0.005330</td>\n",
       "      <td>-0.014786</td>\n",
       "      <td>-0.006455</td>\n",
       "      <td>-0.008933</td>\n",
       "    </tr>\n",
       "  </tbody>\n",
       "</table>\n",
       "</div>"
      ],
      "text/plain": [
       "                 XOM      MSFT       CAT   S&P 500\n",
       "Date                                              \n",
       "2015-01-02       NaN       NaN       NaN       NaN\n",
       "2015-01-05 -0.027743 -0.009238 -0.054230 -0.018447\n",
       "2015-01-06 -0.005330 -0.014786 -0.006455 -0.008933"
      ]
     },
     "execution_count": 14,
     "metadata": {},
     "output_type": "execute_result"
    }
   ],
   "source": [
    "total_return=pd.concat([log_ret,pd.Series(market_ret)],axis=1)\n",
    "total_return.head(3)"
   ]
  },
  {
   "cell_type": "code",
   "execution_count": 15,
   "metadata": {},
   "outputs": [],
   "source": [
    "covarian=list()\n",
    "beta=list()\n",
    "MRP=list()\n",
    "for i in list(data.columns):\n",
    "    covarian.append(total_return.cov().loc['S&P 500',i])\n",
    "marketvar=total_return['S&P 500'].var()\n",
    "for j in covarian:\n",
    "    beta.append(j/marketvar)\n",
    "for u in list(total_return.columns):\n",
    "    MRP.append(total_return[u].mean()-rf)"
   ]
  },
  {
   "cell_type": "code",
   "execution_count": 56,
   "metadata": {},
   "outputs": [
    {
     "data": {
      "text/html": [
       "<div>\n",
       "<style scoped>\n",
       "    .dataframe tbody tr th:only-of-type {\n",
       "        vertical-align: middle;\n",
       "    }\n",
       "\n",
       "    .dataframe tbody tr th {\n",
       "        vertical-align: top;\n",
       "    }\n",
       "\n",
       "    .dataframe thead th {\n",
       "        text-align: right;\n",
       "    }\n",
       "</style>\n",
       "<table border=\"1\" class=\"dataframe\">\n",
       "  <thead>\n",
       "    <tr style=\"text-align: right;\">\n",
       "      <th></th>\n",
       "      <th>XOM</th>\n",
       "      <th>MSFT</th>\n",
       "      <th>CAT</th>\n",
       "      <th>S&amp;P 500</th>\n",
       "    </tr>\n",
       "    <tr>\n",
       "      <th>_</th>\n",
       "      <th></th>\n",
       "      <th></th>\n",
       "      <th></th>\n",
       "      <th></th>\n",
       "    </tr>\n",
       "  </thead>\n",
       "  <tbody>\n",
       "    <tr>\n",
       "      <th>beta</th>\n",
       "      <td>0.918042</td>\n",
       "      <td>1.316678</td>\n",
       "      <td>1.335424</td>\n",
       "      <td>1.000000</td>\n",
       "    </tr>\n",
       "    <tr>\n",
       "      <th>MRP</th>\n",
       "      <td>-0.022702</td>\n",
       "      <td>-0.021524</td>\n",
       "      <td>-0.022122</td>\n",
       "      <td>-0.022125</td>\n",
       "    </tr>\n",
       "  </tbody>\n",
       "</table>\n",
       "</div>"
      ],
      "text/plain": [
       "           XOM      MSFT       CAT   S&P 500\n",
       "_                                           \n",
       "beta  0.918042  1.316678  1.335424  1.000000\n",
       "MRP  -0.022702 -0.021524 -0.022122 -0.022125"
      ]
     },
     "execution_count": 56,
     "metadata": {},
     "output_type": "execute_result"
    }
   ],
   "source": [
    "nul=['beta','MRP']\n",
    "d=pd.DataFrame(np.transpose(np.array(beta)))\n",
    "d=pd.concat([d,pd.Series(MRP)],axis=1)\n",
    "d=pd.DataFrame(np.transpose(np.array(d)))\n",
    "d=pd.concat([pd.Series(nul),d],axis=1)\n",
    "d.columns=['_','XOM','MSFT', 'CAT','S&P 500']\n",
    "d=d.set_index(d['_'])\n",
    "d=d.drop(columns=['_'])\n",
    "d.loc['beta','S&P 500']=1\n",
    "d"
   ]
  },
  {
   "cell_type": "code",
   "execution_count": 17,
   "metadata": {},
   "outputs": [
    {
     "data": {
      "text/html": [
       "<div>\n",
       "<style scoped>\n",
       "    .dataframe tbody tr th:only-of-type {\n",
       "        vertical-align: middle;\n",
       "    }\n",
       "\n",
       "    .dataframe tbody tr th {\n",
       "        vertical-align: top;\n",
       "    }\n",
       "\n",
       "    .dataframe thead th {\n",
       "        text-align: right;\n",
       "    }\n",
       "</style>\n",
       "<table border=\"1\" class=\"dataframe\">\n",
       "  <thead>\n",
       "    <tr style=\"text-align: right;\">\n",
       "      <th></th>\n",
       "      <th>XOM</th>\n",
       "      <th>MSFT</th>\n",
       "      <th>CAT</th>\n",
       "    </tr>\n",
       "  </thead>\n",
       "  <tbody>\n",
       "    <tr>\n",
       "      <th>0</th>\n",
       "      <td>0.001649</td>\n",
       "      <td>-0.00585</td>\n",
       "      <td>-0.007052</td>\n",
       "    </tr>\n",
       "  </tbody>\n",
       "</table>\n",
       "</div>"
      ],
      "text/plain": [
       "        XOM     MSFT       CAT\n",
       "0  0.001649 -0.00585 -0.007052"
      ]
     },
     "execution_count": 17,
     "metadata": {},
     "output_type": "execute_result"
    }
   ],
   "source": [
    "#CAMP returns\n",
    "camp=list()\n",
    "for i in list(d.columns)[:-1]:\n",
    "    camp.append(rf+d.loc['beta',i]*d.loc['MRP',i])\n",
    "camp=pd.DataFrame(camp)\n",
    "camp=pd.DataFrame(np.transpose(np.array(camp)))\n",
    "camp.columns=['XOM','MSFT', 'CAT']\n",
    "camp"
   ]
  },
  {
   "cell_type": "code",
   "execution_count": 18,
   "metadata": {},
   "outputs": [
    {
     "data": {
      "text/plain": [
       "-0.022124517614929888"
      ]
     },
     "execution_count": 18,
     "metadata": {},
     "output_type": "execute_result"
    }
   ],
   "source": [
    "#market risk premium\n",
    "MRP500=total_return['S&P 500'].mean()-rf\n",
    "MRP500"
   ]
  },
  {
   "cell_type": "code",
   "execution_count": 69,
   "metadata": {},
   "outputs": [
    {
     "name": "stdout",
     "output_type": "stream",
     "text": [
      "Regression for XOM : intercept = 0.00018233345311724491, coefficient = 1.0316934786953214, F-statistics = 259.77708821152856 VS critical F-value = 3.8890957154687396\n",
      "Regression for MSFT : intercept = 0.005763043079633538, coefficient = 1.249270134280517, F-statistics = 192.35819606157028 VS critical F-value = 3.8890957154687396\n",
      "Regression for CAT : intercept = -0.0011106547203084752, coefficient = 1.0096449978553463, F-statistics = 126.13391646113448 VS critical F-value = 3.8890957154687396\n"
     ]
    }
   ],
   "source": [
    "from sklearn.linear_model import LinearRegression\n",
    "from sklearn.metrics import r2_score\n",
    "import scipy.stats\n",
    "\n",
    "for k in list(total_return.columns[:-1]):\n",
    "    y=(np.array(total_return[k][1:200]).reshape(len(total_return[k][1:200]),)-rf)\n",
    "    x=(np.array(total_return['S&P 500'][1:200]).reshape(len(total_return['S&P 500'][1:200]),1)-rf)\n",
    "    regr = LinearRegression()  \n",
    "    regr.fit(x,y)\n",
    "    prediction=regr.predict(x)\n",
    "    R2=r2_score(y, prediction)\n",
    "    F=R2/((1-R2)/(x.shape[0]-2))\n",
    "    critical=scipy.stats.f.ppf(q=0.95, dfn=1, dfd=x.shape[0]-2)\n",
    "    #pval=scipy.stats.f.cdf(F, dfn=1, dfd=x.shape[0]-2)\n",
    "    print('Regression for {} : intercept = {}, coefficient = {}, F-statistics = {} VS critical F-value = {}'.format(k,regr.intercept_,regr.coef_[0],F,critical))\n",
    "\n",
    "#print('Critical F-value = {}'.format(scipy.stats.f.ppf(q=0.95, dfn=1, dfd=39)))"
   ]
  },
  {
   "cell_type": "code",
   "execution_count": 50,
   "metadata": {},
   "outputs": [],
   "source": [
    "#import statsmodels.api as sm\n",
    "#regr=sm.OLS(y,x)\n",
    "#regr = regr.fit()\n",
    "#print(regr.summary())"
   ]
  }
 ],
 "metadata": {
  "kernelspec": {
   "display_name": "Python 3",
   "language": "python",
   "name": "python3"
  },
  "language_info": {
   "codemirror_mode": {
    "name": "ipython",
    "version": 3
   },
   "file_extension": ".py",
   "mimetype": "text/x-python",
   "name": "python",
   "nbconvert_exporter": "python",
   "pygments_lexer": "ipython3",
   "version": "3.7.3"
  }
 },
 "nbformat": 4,
 "nbformat_minor": 4
}
